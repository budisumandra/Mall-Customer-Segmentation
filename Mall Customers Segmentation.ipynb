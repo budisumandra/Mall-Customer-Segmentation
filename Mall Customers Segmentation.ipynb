{
 "cells": [
  {
   "cell_type": "markdown",
   "metadata": {},
   "source": [
    "# Pre-Processing Stage "
   ]
  },
  {
   "cell_type": "code",
   "execution_count": 10,
   "metadata": {},
   "outputs": [
    {
     "data": {
      "text/html": [
       "<div>\n",
       "<style scoped>\n",
       "    .dataframe tbody tr th:only-of-type {\n",
       "        vertical-align: middle;\n",
       "    }\n",
       "\n",
       "    .dataframe tbody tr th {\n",
       "        vertical-align: top;\n",
       "    }\n",
       "\n",
       "    .dataframe thead th {\n",
       "        text-align: right;\n",
       "    }\n",
       "</style>\n",
       "<table border=\"1\" class=\"dataframe\">\n",
       "  <thead>\n",
       "    <tr style=\"text-align: right;\">\n",
       "      <th></th>\n",
       "      <th>CustomerID</th>\n",
       "      <th>Gender</th>\n",
       "      <th>Age</th>\n",
       "      <th>Annual Income (k$)</th>\n",
       "      <th>Spending Score (1-100)</th>\n",
       "    </tr>\n",
       "  </thead>\n",
       "  <tbody>\n",
       "    <tr>\n",
       "      <th>0</th>\n",
       "      <td>1</td>\n",
       "      <td>Male</td>\n",
       "      <td>19</td>\n",
       "      <td>15</td>\n",
       "      <td>39</td>\n",
       "    </tr>\n",
       "    <tr>\n",
       "      <th>1</th>\n",
       "      <td>2</td>\n",
       "      <td>Male</td>\n",
       "      <td>21</td>\n",
       "      <td>15</td>\n",
       "      <td>81</td>\n",
       "    </tr>\n",
       "    <tr>\n",
       "      <th>2</th>\n",
       "      <td>3</td>\n",
       "      <td>Female</td>\n",
       "      <td>20</td>\n",
       "      <td>16</td>\n",
       "      <td>6</td>\n",
       "    </tr>\n",
       "    <tr>\n",
       "      <th>3</th>\n",
       "      <td>4</td>\n",
       "      <td>Female</td>\n",
       "      <td>23</td>\n",
       "      <td>16</td>\n",
       "      <td>77</td>\n",
       "    </tr>\n",
       "    <tr>\n",
       "      <th>4</th>\n",
       "      <td>5</td>\n",
       "      <td>Female</td>\n",
       "      <td>31</td>\n",
       "      <td>17</td>\n",
       "      <td>40</td>\n",
       "    </tr>\n",
       "  </tbody>\n",
       "</table>\n",
       "</div>"
      ],
      "text/plain": [
       "   CustomerID  Gender  Age  Annual Income (k$)  Spending Score (1-100)\n",
       "0           1    Male   19                  15                      39\n",
       "1           2    Male   21                  15                      81\n",
       "2           3  Female   20                  16                       6\n",
       "3           4  Female   23                  16                      77\n",
       "4           5  Female   31                  17                      40"
      ]
     },
     "execution_count": 10,
     "metadata": {},
     "output_type": "execute_result"
    }
   ],
   "source": [
    "#Look components of dataset\n",
    "import pandas as pd\n",
    "dataset = pd.read_csv('Mall_Customers.csv')\n",
    "dataset.head()"
   ]
  },
  {
   "cell_type": "code",
   "execution_count": 11,
   "metadata": {},
   "outputs": [
    {
     "name": "stdout",
     "output_type": "stream",
     "text": [
      "<class 'pandas.core.frame.DataFrame'>\n",
      "RangeIndex: 200 entries, 0 to 199\n",
      "Data columns (total 5 columns):\n",
      " #   Column                  Non-Null Count  Dtype \n",
      "---  ------                  --------------  ----- \n",
      " 0   CustomerID              200 non-null    int64 \n",
      " 1   Gender                  200 non-null    object\n",
      " 2   Age                     200 non-null    int64 \n",
      " 3   Annual Income (k$)      200 non-null    int64 \n",
      " 4   Spending Score (1-100)  200 non-null    int64 \n",
      "dtypes: int64(4), object(1)\n",
      "memory usage: 7.9+ KB\n"
     ]
    }
   ],
   "source": [
    "dataset.info()"
   ]
  },
  {
   "cell_type": "code",
   "execution_count": 12,
   "metadata": {},
   "outputs": [
    {
     "data": {
      "text/html": [
       "<div>\n",
       "<style scoped>\n",
       "    .dataframe tbody tr th:only-of-type {\n",
       "        vertical-align: middle;\n",
       "    }\n",
       "\n",
       "    .dataframe tbody tr th {\n",
       "        vertical-align: top;\n",
       "    }\n",
       "\n",
       "    .dataframe thead th {\n",
       "        text-align: right;\n",
       "    }\n",
       "</style>\n",
       "<table border=\"1\" class=\"dataframe\">\n",
       "  <thead>\n",
       "    <tr style=\"text-align: right;\">\n",
       "      <th></th>\n",
       "      <th>CustomerID</th>\n",
       "      <th>Age</th>\n",
       "      <th>Annual Income (k$)</th>\n",
       "      <th>Spending Score (1-100)</th>\n",
       "    </tr>\n",
       "  </thead>\n",
       "  <tbody>\n",
       "    <tr>\n",
       "      <th>count</th>\n",
       "      <td>200.000000</td>\n",
       "      <td>200.000000</td>\n",
       "      <td>200.000000</td>\n",
       "      <td>200.000000</td>\n",
       "    </tr>\n",
       "    <tr>\n",
       "      <th>mean</th>\n",
       "      <td>100.500000</td>\n",
       "      <td>38.850000</td>\n",
       "      <td>60.560000</td>\n",
       "      <td>50.200000</td>\n",
       "    </tr>\n",
       "    <tr>\n",
       "      <th>std</th>\n",
       "      <td>57.879185</td>\n",
       "      <td>13.969007</td>\n",
       "      <td>26.264721</td>\n",
       "      <td>25.823522</td>\n",
       "    </tr>\n",
       "    <tr>\n",
       "      <th>min</th>\n",
       "      <td>1.000000</td>\n",
       "      <td>18.000000</td>\n",
       "      <td>15.000000</td>\n",
       "      <td>1.000000</td>\n",
       "    </tr>\n",
       "    <tr>\n",
       "      <th>25%</th>\n",
       "      <td>50.750000</td>\n",
       "      <td>28.750000</td>\n",
       "      <td>41.500000</td>\n",
       "      <td>34.750000</td>\n",
       "    </tr>\n",
       "    <tr>\n",
       "      <th>50%</th>\n",
       "      <td>100.500000</td>\n",
       "      <td>36.000000</td>\n",
       "      <td>61.500000</td>\n",
       "      <td>50.000000</td>\n",
       "    </tr>\n",
       "    <tr>\n",
       "      <th>75%</th>\n",
       "      <td>150.250000</td>\n",
       "      <td>49.000000</td>\n",
       "      <td>78.000000</td>\n",
       "      <td>73.000000</td>\n",
       "    </tr>\n",
       "    <tr>\n",
       "      <th>max</th>\n",
       "      <td>200.000000</td>\n",
       "      <td>70.000000</td>\n",
       "      <td>137.000000</td>\n",
       "      <td>99.000000</td>\n",
       "    </tr>\n",
       "  </tbody>\n",
       "</table>\n",
       "</div>"
      ],
      "text/plain": [
       "       CustomerID         Age  Annual Income (k$)  Spending Score (1-100)\n",
       "count  200.000000  200.000000          200.000000              200.000000\n",
       "mean   100.500000   38.850000           60.560000               50.200000\n",
       "std     57.879185   13.969007           26.264721               25.823522\n",
       "min      1.000000   18.000000           15.000000                1.000000\n",
       "25%     50.750000   28.750000           41.500000               34.750000\n",
       "50%    100.500000   36.000000           61.500000               50.000000\n",
       "75%    150.250000   49.000000           78.000000               73.000000\n",
       "max    200.000000   70.000000          137.000000               99.000000"
      ]
     },
     "execution_count": 12,
     "metadata": {},
     "output_type": "execute_result"
    }
   ],
   "source": [
    "dataset.describe()"
   ]
  },
  {
   "cell_type": "code",
   "execution_count": 13,
   "metadata": {},
   "outputs": [
    {
     "data": {
      "text/plain": [
       "CustomerID                False\n",
       "Gender                    False\n",
       "Age                       False\n",
       "Annual Income (k$)        False\n",
       "Spending Score (1-100)    False\n",
       "dtype: bool"
      ]
     },
     "execution_count": 13,
     "metadata": {},
     "output_type": "execute_result"
    }
   ],
   "source": [
    "dataset.isnull().any()"
   ]
  },
  {
   "cell_type": "code",
   "execution_count": 14,
   "metadata": {},
   "outputs": [
    {
     "data": {
      "text/html": [
       "<div>\n",
       "<style scoped>\n",
       "    .dataframe tbody tr th:only-of-type {\n",
       "        vertical-align: middle;\n",
       "    }\n",
       "\n",
       "    .dataframe tbody tr th {\n",
       "        vertical-align: top;\n",
       "    }\n",
       "\n",
       "    .dataframe thead th {\n",
       "        text-align: right;\n",
       "    }\n",
       "</style>\n",
       "<table border=\"1\" class=\"dataframe\">\n",
       "  <thead>\n",
       "    <tr style=\"text-align: right;\">\n",
       "      <th></th>\n",
       "      <th>Gender</th>\n",
       "      <th>Age</th>\n",
       "      <th>Annual_Income</th>\n",
       "      <th>Spending_Score</th>\n",
       "    </tr>\n",
       "  </thead>\n",
       "  <tbody>\n",
       "    <tr>\n",
       "      <th>0</th>\n",
       "      <td>Male</td>\n",
       "      <td>19</td>\n",
       "      <td>15</td>\n",
       "      <td>39</td>\n",
       "    </tr>\n",
       "    <tr>\n",
       "      <th>1</th>\n",
       "      <td>Male</td>\n",
       "      <td>21</td>\n",
       "      <td>15</td>\n",
       "      <td>81</td>\n",
       "    </tr>\n",
       "    <tr>\n",
       "      <th>2</th>\n",
       "      <td>Female</td>\n",
       "      <td>20</td>\n",
       "      <td>16</td>\n",
       "      <td>6</td>\n",
       "    </tr>\n",
       "    <tr>\n",
       "      <th>3</th>\n",
       "      <td>Female</td>\n",
       "      <td>23</td>\n",
       "      <td>16</td>\n",
       "      <td>77</td>\n",
       "    </tr>\n",
       "    <tr>\n",
       "      <th>4</th>\n",
       "      <td>Female</td>\n",
       "      <td>31</td>\n",
       "      <td>17</td>\n",
       "      <td>40</td>\n",
       "    </tr>\n",
       "  </tbody>\n",
       "</table>\n",
       "</div>"
      ],
      "text/plain": [
       "   Gender  Age  Annual_Income  Spending_Score\n",
       "0    Male   19             15              39\n",
       "1    Male   21             15              81\n",
       "2  Female   20             16               6\n",
       "3  Female   23             16              77\n",
       "4  Female   31             17              40"
      ]
     },
     "execution_count": 14,
     "metadata": {},
     "output_type": "execute_result"
    }
   ],
   "source": [
    "#Columns's string treatment and drop unused column\n",
    "dataset.columns = [s.strip().replace(' ', '_') for s in dataset.columns]\n",
    "dataset = dataset.rename(columns = {'Annual_Income_(k$)':'Annual_Income', 'Spending_Score_(1-100)':'Spending_Score'})\n",
    "dataset = dataset.drop(columns = 'CustomerID')\n",
    "dataset.head()"
   ]
  },
  {
   "cell_type": "code",
   "execution_count": 15,
   "metadata": {},
   "outputs": [
    {
     "name": "stdout",
     "output_type": "stream",
     "text": [
      "  adjustable: {'box', 'datalim'}\n",
      "  agg_filter: a filter function, which takes a (m, n, 3) float array and a dpi value, and returns a (m, n, 3) array\n",
      "  alpha: float or None\n",
      "  anchor: 2-tuple of floats or {'C', 'SW', 'S', 'SE', ...}\n",
      "  animated: bool\n",
      "  aspect: {'auto'} or num\n",
      "  autoscale_on: bool\n",
      "  autoscalex_on: bool\n",
      "  autoscaley_on: bool\n",
      "  axes_locator: Callable[[Axes, Renderer], Bbox]\n",
      "  axisbelow: bool or 'line'\n",
      "  box_aspect: None, or a number\n",
      "  clip_box: `.Bbox`\n",
      "  clip_on: bool\n",
      "  clip_path: Patch or (Path, Transform) or None\n",
      "  contains: unknown\n",
      "  facecolor or fc: color\n",
      "  figure: `.Figure`\n",
      "  frame_on: bool\n",
      "  gid: str\n",
      "  in_layout: bool\n",
      "  label: object\n",
      "  navigate: bool\n",
      "  navigate_mode: unknown\n",
      "  path_effects: `.AbstractPathEffect`\n",
      "  picker: None or bool or callable\n",
      "  position: [left, bottom, width, height] or `~matplotlib.transforms.Bbox`\n",
      "  prop_cycle: unknown\n",
      "  rasterization_zorder: float or None\n",
      "  rasterized: bool or None\n",
      "  sketch_params: (scale: float, length: float, randomness: float)\n",
      "  snap: bool or None\n",
      "  subplotspec: unknown\n",
      "  title: str\n",
      "  transform: `.Transform`\n",
      "  url: str\n",
      "  visible: bool\n",
      "  xbound: unknown\n",
      "  xlabel: str\n",
      "  xlim: (bottom: float, top: float)\n",
      "  xmargin: float greater than -0.5\n",
      "  xscale: {\"linear\", \"log\", \"symlog\", \"logit\", ...}\n",
      "  xticklabels: unknown\n",
      "  xticks: unknown\n",
      "  ybound: unknown\n",
      "  ylabel: str\n",
      "  ylim: (bottom: float, top: float)\n",
      "  ymargin: float greater than -0.5\n",
      "  yscale: {\"linear\", \"log\", \"symlog\", \"logit\", ...}\n",
      "  yticklabels: unknown\n",
      "  yticks: unknown\n",
      "  zorder: float\n"
     ]
    },
    {
     "data": {
      "text/plain": [
       "<Figure size 432x288 with 0 Axes>"
      ]
     },
     "metadata": {},
     "output_type": "display_data"
    },
    {
     "data": {
      "image/png": "[encoded data removed]",
      "text/plain": [
       "<Figure size 648x576 with 6 Axes>"
      ]
     },
     "metadata": {},
     "output_type": "display_data"
    }
   ],
   "source": [
    "#Explore data distribution for numerical columns\n",
    "import matplotlib.pyplot as plt\n",
    "import seaborn as sns\n",
    "import warnings\n",
    "warnings.filterwarnings('ignore')\n",
    "sns.set(style='white')\n",
    "plt.clf()\n",
    "\n",
    "# Make a function to create plots\n",
    "def create_plot(columns):\n",
    "    fig, axs = plt.subplots(3, 2, figsize=(9, 8))\n",
    "    for i, col in enumerate(columns):\n",
    "        sns.boxplot(dataset[col], ax = axs[i][0])\n",
    "        sns.distplot(dataset[col], ax = axs[i][1])\n",
    "        axs[i][0].set_title('mean = %.2f\\n median = %.2f\\n std = %.2f'%(dataset[col].mean(), dataset[col].median(), dataset[col].std()))\n",
    "    plt.setp(axs)\n",
    "    plt.tight_layout()\n",
    "    plt.show()\n",
    "\n",
    "# Call create_plot function\n",
    "numerical_columns = ['Age','Annual_Income','Spending_Score']\n",
    "create_plot(numerical_columns)\n"
   ]
  },
  {
   "cell_type": "markdown",
   "metadata": {},
   "source": [
    "From these three tables, we can conclude:\n",
    "* The average age of customers who visit the mall is 38 years with average annual income = 61.50 k$ and the average spending score obtained by customers is 50.20\n",
    "* There are outliers in the 'Annual Income' column\n",
    "* The distribution of data in the three numeric columns does not experience a significant skew (relatively normal)\n",
    "\n",
    "Now, we will treat the outliers\n"
   ]
  },
  {
   "cell_type": "code",
   "execution_count": 17,
   "metadata": {},
   "outputs": [
    {
     "name": "stdout",
     "output_type": "stream",
     "text": [
      "Q1 = 41.5 and Q3 = 78.0\n",
      "outlier_lowerLimit = -13.25 dan outlier_upperLimit = 132.75\n"
     ]
    }
   ],
   "source": [
    "#Overcome outliers in Annual_Income column with Interquartil (IQR) method\n",
    "Q1 = dataset['Annual_Income'].quantile(0.25)\n",
    "Q3 = dataset['Annual_Income'].quantile(0.75)\n",
    "\n",
    "print('Q1 = {} and Q3 = {}'.format(Q1,Q3))\n",
    "IQR = Q3-Q1\n",
    "outlier_lowerLimit = Q1-1.5*IQR \n",
    "outlier_upperLimit = Q3+1.5*IQR\n",
    "print('outlier_lowerLimit = {} dan outlier_upperLimit = {}'.format(outlier_lowerLimit,outlier_upperLimit))\n",
    "#Negative value means there are no outlier"
   ]
  },
  {
   "cell_type": "code",
   "execution_count": 18,
   "metadata": {},
   "outputs": [
    {
     "data": {
      "text/html": [
       "<div>\n",
       "<style scoped>\n",
       "    .dataframe tbody tr th:only-of-type {\n",
       "        vertical-align: middle;\n",
       "    }\n",
       "\n",
       "    .dataframe tbody tr th {\n",
       "        vertical-align: top;\n",
       "    }\n",
       "\n",
       "    .dataframe thead th {\n",
       "        text-align: right;\n",
       "    }\n",
       "</style>\n",
       "<table border=\"1\" class=\"dataframe\">\n",
       "  <thead>\n",
       "    <tr style=\"text-align: right;\">\n",
       "      <th></th>\n",
       "      <th>Gender</th>\n",
       "      <th>Age</th>\n",
       "      <th>Annual_Income</th>\n",
       "      <th>Spending_Score</th>\n",
       "    </tr>\n",
       "  </thead>\n",
       "  <tbody>\n",
       "    <tr>\n",
       "      <th>198</th>\n",
       "      <td>Male</td>\n",
       "      <td>32</td>\n",
       "      <td>137</td>\n",
       "      <td>18</td>\n",
       "    </tr>\n",
       "    <tr>\n",
       "      <th>199</th>\n",
       "      <td>Male</td>\n",
       "      <td>30</td>\n",
       "      <td>137</td>\n",
       "      <td>83</td>\n",
       "    </tr>\n",
       "  </tbody>\n",
       "</table>\n",
       "</div>"
      ],
      "text/plain": [
       "    Gender  Age  Annual_Income  Spending_Score\n",
       "198   Male   32            137              18\n",
       "199   Male   30            137              83"
      ]
     },
     "execution_count": 18,
     "metadata": {},
     "output_type": "execute_result"
    }
   ],
   "source": [
    "outliers = dataset[(dataset['Annual_Income']>outlier_upperLimit)|(dataset['Annual_Income']<outlier_lowerLimit)]\n",
    "outliers"
   ]
  },
  {
   "cell_type": "code",
   "execution_count": 19,
   "metadata": {},
   "outputs": [
    {
     "name": "stdout",
     "output_type": "stream",
     "text": [
      "Initial dataset size =  (200, 4)\n",
      "Final dataset size =  (198, 4)\n"
     ]
    }
   ],
   "source": [
    "print('Initial dataset size = ', dataset.shape)\n",
    "dataset_final = dataset[~((dataset['Annual_Income']>outlier_upperLimit)|(dataset['Annual_Income']<outlier_lowerLimit))]\n",
    "print('Final dataset size = ', dataset_final.shape)\n"
   ]
  },
  {
   "cell_type": "code",
   "execution_count": 20,
   "metadata": {},
   "outputs": [],
   "source": [
    "#Let save this new dataset for the last modeling process\n",
    "dataset_final.to_csv('Mall Customers Drop.csv')\n"
   ]
  },
  {
   "cell_type": "code",
   "execution_count": 21,
   "metadata": {},
   "outputs": [
    {
     "name": "stdout",
     "output_type": "stream",
     "text": [
      "  adjustable: {'box', 'datalim'}\n",
      "  agg_filter: a filter function, which takes a (m, n, 3) float array and a dpi value, and returns a (m, n, 3) array\n",
      "  alpha: float or None\n",
      "  anchor: 2-tuple of floats or {'C', 'SW', 'S', 'SE', ...}\n",
      "  animated: bool\n",
      "  aspect: {'auto'} or num\n",
      "  autoscale_on: bool\n",
      "  autoscalex_on: bool\n",
      "  autoscaley_on: bool\n",
      "  axes_locator: Callable[[Axes, Renderer], Bbox]\n",
      "  axisbelow: bool or 'line'\n",
      "  box_aspect: None, or a number\n",
      "  clip_box: `.Bbox`\n",
      "  clip_on: bool\n",
      "  clip_path: Patch or (Path, Transform) or None\n",
      "  contains: unknown\n",
      "  facecolor or fc: color\n",
      "  figure: `.Figure`\n",
      "  frame_on: bool\n",
      "  gid: str\n",
      "  in_layout: bool\n",
      "  label: object\n",
      "  navigate: bool\n",
      "  navigate_mode: unknown\n",
      "  path_effects: `.AbstractPathEffect`\n",
      "  picker: None or bool or callable\n",
      "  position: [left, bottom, width, height] or `~matplotlib.transforms.Bbox`\n",
      "  prop_cycle: unknown\n",
      "  rasterization_zorder: float or None\n",
      "  rasterized: bool or None\n",
      "  sketch_params: (scale: float, length: float, randomness: float)\n",
      "  snap: bool or None\n",
      "  subplotspec: unknown\n",
      "  title: str\n",
      "  transform: `.Transform`\n",
      "  url: str\n",
      "  visible: bool\n",
      "  xbound: unknown\n",
      "  xlabel: str\n",
      "  xlim: (bottom: float, top: float)\n",
      "  xmargin: float greater than -0.5\n",
      "  xscale: {\"linear\", \"log\", \"symlog\", \"logit\", ...}\n",
      "  xticklabels: unknown\n",
      "  xticks: unknown\n",
      "  ybound: unknown\n",
      "  ylabel: str\n",
      "  ylim: (bottom: float, top: float)\n",
      "  ymargin: float greater than -0.5\n",
      "  yscale: {\"linear\", \"log\", \"symlog\", \"logit\", ...}\n",
      "  yticklabels: unknown\n",
      "  yticks: unknown\n",
      "  zorder: float\n"
     ]
    },
    {
     "data": {
      "image/png": "[encoded data removed]",
      "text/plain": [
       "<Figure size 648x504 with 1 Axes>"
      ]
     },
     "metadata": {},
     "output_type": "display_data"
    }
   ],
   "source": [
    "#Visualize the count gender type who visited the Mall\n",
    "fig,axs = plt.subplots(1,1,figsize=(9,7))\n",
    "\n",
    "#Create a plot\n",
    "sns.countplot(dataset_final['Gender'], order = dataset_final['Gender'].value_counts().head(10).index, ax =axs)\n",
    "axs.set_title('Countplot Gender', fontsize = 20)\n",
    "plt.xticks(rotation = 0)\n",
    "#Create annotate\n",
    "for i in axs.patches:\n",
    "    axs.annotate(format(i.get_height(), '.0f'),\n",
    "                    (i.get_x() + i.get_width() / 2., i.get_height()),\n",
    "                    ha = 'center',\n",
    "                    va = 'center',\n",
    "                    xytext = (0, 10),\n",
    "                    textcoords = 'offset points')\n",
    "\n",
    "# Setting Plot\n",
    "sns.despine(right=True,top = True, left = True)\n",
    "axs.axes.yaxis.set_visible(False)\n",
    "plt.setp(axs)\n",
    "plt.tight_layout()\n",
    "plt.show();\n"
   ]
  },
  {
   "cell_type": "code",
   "execution_count": 22,
   "metadata": {},
   "outputs": [
    {
     "name": "stdout",
     "output_type": "stream",
     "text": [
      "     Gender  Age  Annual_Income  Spending_Score\n",
      "0         1   19             15              39\n",
      "1         1   21             15              81\n",
      "2         0   20             16               6\n",
      "3         0   23             16              77\n",
      "4         0   31             17              40\n",
      "..      ...  ...            ...             ...\n",
      "193       0   38            113              91\n",
      "194       0   47            120              16\n",
      "195       0   35            120              79\n",
      "196       0   45            126              28\n",
      "197       1   32            126              74\n",
      "\n",
      "[198 rows x 4 columns]\n"
     ]
    }
   ],
   "source": [
    "#Encode category column\n",
    "from sklearn.preprocessing import LabelEncoder\n",
    "\n",
    "category_column = ['Gender']\n",
    "for col in category_column:\n",
    "    dataset_final[col] = LabelEncoder().fit_transform(dataset_final[col])\n",
    "\n",
    "# Print the data final\n",
    "print(dataset_final)\n"
   ]
  },
  {
   "cell_type": "code",
   "execution_count": 23,
   "metadata": {},
   "outputs": [],
   "source": [
    "#Save data final for modeling stage\n",
    "dataset_final.to_csv('Mall Customers Clean.csv')"
   ]
  },
  {
   "cell_type": "markdown",
   "metadata": {},
   "source": [
    "# Modelling Process Stage\n",
    "We use K-Means Clustering Method"
   ]
  },
  {
   "cell_type": "code",
   "execution_count": 24,
   "metadata": {},
   "outputs": [
    {
     "data": {
      "text/html": [
       "<div>\n",
       "<style scoped>\n",
       "    .dataframe tbody tr th:only-of-type {\n",
       "        vertical-align: middle;\n",
       "    }\n",
       "\n",
       "    .dataframe tbody tr th {\n",
       "        vertical-align: top;\n",
       "    }\n",
       "\n",
       "    .dataframe thead th {\n",
       "        text-align: right;\n",
       "    }\n",
       "</style>\n",
       "<table border=\"1\" class=\"dataframe\">\n",
       "  <thead>\n",
       "    <tr style=\"text-align: right;\">\n",
       "      <th></th>\n",
       "      <th>Unnamed: 0</th>\n",
       "      <th>Gender</th>\n",
       "      <th>Age</th>\n",
       "      <th>Annual_Income</th>\n",
       "      <th>Spending_Score</th>\n",
       "    </tr>\n",
       "  </thead>\n",
       "  <tbody>\n",
       "    <tr>\n",
       "      <th>0</th>\n",
       "      <td>0</td>\n",
       "      <td>1</td>\n",
       "      <td>19</td>\n",
       "      <td>15</td>\n",
       "      <td>39</td>\n",
       "    </tr>\n",
       "    <tr>\n",
       "      <th>1</th>\n",
       "      <td>1</td>\n",
       "      <td>1</td>\n",
       "      <td>21</td>\n",
       "      <td>15</td>\n",
       "      <td>81</td>\n",
       "    </tr>\n",
       "    <tr>\n",
       "      <th>2</th>\n",
       "      <td>2</td>\n",
       "      <td>0</td>\n",
       "      <td>20</td>\n",
       "      <td>16</td>\n",
       "      <td>6</td>\n",
       "    </tr>\n",
       "    <tr>\n",
       "      <th>3</th>\n",
       "      <td>3</td>\n",
       "      <td>0</td>\n",
       "      <td>23</td>\n",
       "      <td>16</td>\n",
       "      <td>77</td>\n",
       "    </tr>\n",
       "    <tr>\n",
       "      <th>4</th>\n",
       "      <td>4</td>\n",
       "      <td>0</td>\n",
       "      <td>31</td>\n",
       "      <td>17</td>\n",
       "      <td>40</td>\n",
       "    </tr>\n",
       "  </tbody>\n",
       "</table>\n",
       "</div>"
      ],
      "text/plain": [
       "   Unnamed: 0  Gender  Age  Annual_Income  Spending_Score\n",
       "0           0       1   19             15              39\n",
       "1           1       1   21             15              81\n",
       "2           2       0   20             16               6\n",
       "3           3       0   23             16              77\n",
       "4           4       0   31             17              40"
      ]
     },
     "execution_count": 24,
     "metadata": {},
     "output_type": "execute_result"
    }
   ],
   "source": [
    "#Load the previously saved final dataset\n",
    "data = pd.read_csv('Mall Customers Clean.csv')\n",
    "data.head()"
   ]
  },
  {
   "cell_type": "code",
   "execution_count": 25,
   "metadata": {},
   "outputs": [
    {
     "data": {
      "text/html": [
       "<div>\n",
       "<style scoped>\n",
       "    .dataframe tbody tr th:only-of-type {\n",
       "        vertical-align: middle;\n",
       "    }\n",
       "\n",
       "    .dataframe tbody tr th {\n",
       "        vertical-align: top;\n",
       "    }\n",
       "\n",
       "    .dataframe thead th {\n",
       "        text-align: right;\n",
       "    }\n",
       "</style>\n",
       "<table border=\"1\" class=\"dataframe\">\n",
       "  <thead>\n",
       "    <tr style=\"text-align: right;\">\n",
       "      <th></th>\n",
       "      <th>Gender</th>\n",
       "      <th>Age</th>\n",
       "      <th>Annual_Income</th>\n",
       "      <th>Spending_Score</th>\n",
       "    </tr>\n",
       "  </thead>\n",
       "  <tbody>\n",
       "    <tr>\n",
       "      <th>0</th>\n",
       "      <td>1</td>\n",
       "      <td>19</td>\n",
       "      <td>15</td>\n",
       "      <td>39</td>\n",
       "    </tr>\n",
       "    <tr>\n",
       "      <th>1</th>\n",
       "      <td>1</td>\n",
       "      <td>21</td>\n",
       "      <td>15</td>\n",
       "      <td>81</td>\n",
       "    </tr>\n",
       "    <tr>\n",
       "      <th>2</th>\n",
       "      <td>0</td>\n",
       "      <td>20</td>\n",
       "      <td>16</td>\n",
       "      <td>6</td>\n",
       "    </tr>\n",
       "    <tr>\n",
       "      <th>3</th>\n",
       "      <td>0</td>\n",
       "      <td>23</td>\n",
       "      <td>16</td>\n",
       "      <td>77</td>\n",
       "    </tr>\n",
       "    <tr>\n",
       "      <th>4</th>\n",
       "      <td>0</td>\n",
       "      <td>31</td>\n",
       "      <td>17</td>\n",
       "      <td>40</td>\n",
       "    </tr>\n",
       "  </tbody>\n",
       "</table>\n",
       "</div>"
      ],
      "text/plain": [
       "   Gender  Age  Annual_Income  Spending_Score\n",
       "0       1   19             15              39\n",
       "1       1   21             15              81\n",
       "2       0   20             16               6\n",
       "3       0   23             16              77\n",
       "4       0   31             17              40"
      ]
     },
     "execution_count": 25,
     "metadata": {},
     "output_type": "execute_result"
    }
   ],
   "source": [
    "data = data.drop(columns = 'Unnamed: 0')\n",
    "data.head()"
   ]
  },
  {
   "cell_type": "code",
   "execution_count": 26,
   "metadata": {},
   "outputs": [
    {
     "data": {
      "image/png": "[encoded data removed]",
      "text/plain": [
       "<Figure size 432x288 with 1 Axes>"
      ]
     },
     "metadata": {},
     "output_type": "display_data"
    }
   ],
   "source": [
    "#Finding the best k value with Elbow Plot\n",
    "from kmodes.kmodes import KModes\n",
    "from kmodes.kprototypes import KPrototypes #for both category and numeric clustering\n",
    "import pandas as pd\n",
    "import seaborn as sns\n",
    "import matplotlib.pyplot as plt\n",
    "sns.set(style='white')\n",
    "\n",
    "# Iteration to get cost value\n",
    "cost = {}\n",
    "for k in range(1,10):\n",
    "    kproto = KPrototypes(n_clusters = k,random_state=75)\n",
    "    kproto.fit_predict(data, categorical=[0]) #index [0] for column 'Age'\n",
    "    cost[k]= kproto.cost_\n",
    "\n",
    "# Elbow Plot Visualization\n",
    "sns.pointplot(x=list(cost.keys()), y=list(cost.values()), color = 'red')\n",
    "plt.title('Elbow Plot\\n', fontsize = 15)\n",
    "plt.show()"
   ]
  },
  {
   "cell_type": "code",
   "execution_count": 27,
   "metadata": {},
   "outputs": [],
   "source": [
    "# Let use k = 6 to fit model clustering\n",
    "import pickle\n",
    "\n",
    "kproto = KPrototypes(n_clusters=6, random_state = 75)\n",
    "kproto = kproto.fit(data, categorical=[0])\n",
    "\n",
    "# Save Model\n",
    "pickle.dump(kproto, open('cluster.pkl', 'wb'))"
   ]
  },
  {
   "cell_type": "code",
   "execution_count": 28,
   "metadata": {},
   "outputs": [
    {
     "name": "stdout",
     "output_type": "stream",
     "text": [
      "Customer Segmentation: [0 2 0 2 0 2 0 2 0 2 0 2 0 2 0 2 0 2 0 2 0 2 0 2 0 2 0 2 0 2 0 2 0 2 0 2 0\n",
      " 2 0 2 1 2 1 4 0 2 1 4 4 4 1 4 4 1 1 1 1 1 4 1 1 4 1 1 1 4 1 1 4 4 1 1 1 1\n",
      " 1 4 1 4 4 1 1 4 1 1 4 1 1 4 4 1 1 4 1 4 4 4 1 4 1 4 4 1 1 4 1 4 1 1 1 1 1\n",
      " 4 4 4 4 4 1 1 1 1 4 4 4 5 4 5 3 5 3 5 3 5 4 5 3 5 3 5 3 5 3 5 4 5 3 5 3 5\n",
      " 3 5 3 5 3 5 3 5 3 5 3 5 3 5 3 5 3 5 3 5 3 5 3 5 3 5 3 5 3 5 3 5 3 5 3 5 3\n",
      " 5 3 5 3 5 3 5 3 5 3 5 3 5]\n",
      "\n"
     ]
    }
   ],
   "source": [
    "# Determine each customer's category\n",
    "clusters = kproto.predict(data, categorical=[0])\n",
    "print('Customer Segmentation: {}\\n'.format(clusters))"
   ]
  },
  {
   "cell_type": "code",
   "execution_count": 29,
   "metadata": {},
   "outputs": [
    {
     "data": {
      "text/html": [
       "<div>\n",
       "<style scoped>\n",
       "    .dataframe tbody tr th:only-of-type {\n",
       "        vertical-align: middle;\n",
       "    }\n",
       "\n",
       "    .dataframe tbody tr th {\n",
       "        vertical-align: top;\n",
       "    }\n",
       "\n",
       "    .dataframe thead th {\n",
       "        text-align: right;\n",
       "    }\n",
       "</style>\n",
       "<table border=\"1\" class=\"dataframe\">\n",
       "  <thead>\n",
       "    <tr style=\"text-align: right;\">\n",
       "      <th></th>\n",
       "      <th>Gender</th>\n",
       "      <th>Age</th>\n",
       "      <th>Annual_Income</th>\n",
       "      <th>Spending_Score</th>\n",
       "    </tr>\n",
       "  </thead>\n",
       "  <tbody>\n",
       "    <tr>\n",
       "      <th>0</th>\n",
       "      <td>Male</td>\n",
       "      <td>19</td>\n",
       "      <td>15</td>\n",
       "      <td>39</td>\n",
       "    </tr>\n",
       "    <tr>\n",
       "      <th>1</th>\n",
       "      <td>Male</td>\n",
       "      <td>21</td>\n",
       "      <td>15</td>\n",
       "      <td>81</td>\n",
       "    </tr>\n",
       "    <tr>\n",
       "      <th>2</th>\n",
       "      <td>Female</td>\n",
       "      <td>20</td>\n",
       "      <td>16</td>\n",
       "      <td>6</td>\n",
       "    </tr>\n",
       "    <tr>\n",
       "      <th>3</th>\n",
       "      <td>Female</td>\n",
       "      <td>23</td>\n",
       "      <td>16</td>\n",
       "      <td>77</td>\n",
       "    </tr>\n",
       "    <tr>\n",
       "      <th>4</th>\n",
       "      <td>Female</td>\n",
       "      <td>31</td>\n",
       "      <td>17</td>\n",
       "      <td>40</td>\n",
       "    </tr>\n",
       "  </tbody>\n",
       "</table>\n",
       "</div>"
      ],
      "text/plain": [
       "   Gender  Age  Annual_Income  Spending_Score\n",
       "0    Male   19             15              39\n",
       "1    Male   21             15              81\n",
       "2  Female   20             16               6\n",
       "3  Female   23             16              77\n",
       "4  Female   31             17              40"
      ]
     },
     "execution_count": 29,
     "metadata": {},
     "output_type": "execute_result"
    }
   ],
   "source": [
    "#Load initial dataset which has dropped the outliers\n",
    "df = pd.read_csv('Mall Customers Drop.csv')\n",
    "df = df.drop(columns = 'Unnamed: 0')\n",
    "df.head()"
   ]
  },
  {
   "cell_type": "code",
   "execution_count": 30,
   "metadata": {},
   "outputs": [
    {
     "name": "stdout",
     "output_type": "stream",
     "text": [
      "   Gender  Age  Annual_Income  Spending_Score  cluster\n",
      "0    Male   19             15              39        0\n",
      "1    Male   21             15              81        2\n",
      "2  Female   20             16               6        0\n",
      "3  Female   23             16              77        2\n",
      "4  Female   31             17              40        0\n"
     ]
    }
   ],
   "source": [
    "# Combining initial data and customer segments\n",
    "df_final = df.copy()\n",
    "df_final['cluster'] = clusters\n",
    "print(df_final.head())"
   ]
  },
  {
   "cell_type": "code",
   "execution_count": 31,
   "metadata": {},
   "outputs": [
    {
     "name": "stdout",
     "output_type": "stream",
     "text": [
      "\n",
      "Customer cluster: 0\n",
      "\n",
      "    Gender  Age  Annual_Income  Spending_Score  cluster\n",
      "0     Male   19             15              39        0\n",
      "2   Female   20             16               6        0\n",
      "4   Female   31             17              40        0\n",
      "6   Female   35             18               6        0\n",
      "8     Male   64             19               3        0\n",
      "10    Male   67             19              14        0\n",
      "12  Female   58             20              15        0\n",
      "14    Male   37             20              13        0\n",
      "16  Female   35             21              35        0\n",
      "18    Male   52             23              29        0\n",
      "20    Male   35             24              35        0\n",
      "22  Female   46             25               5        0\n",
      "24  Female   54             28              14        0\n",
      "26  Female   45             28              32        0\n",
      "28  Female   40             29              31        0\n",
      "30    Male   60             30               4        0\n",
      "32    Male   53             33               4        0\n",
      "34  Female   49             33              14        0\n",
      "36  Female   42             34              17        0\n",
      "38  Female   36             37              26        0\n",
      "44  Female   49             39              28        0\n",
      "\n",
      "Customer cluster: 1\n",
      "\n",
      "     Gender  Age  Annual_Income  Spending_Score  cluster\n",
      "40   Female   65             38              35        1\n",
      "42     Male   48             39              36        1\n",
      "46   Female   50             40              55        1\n",
      "50   Female   49             42              52        1\n",
      "53     Male   59             43              60        1\n",
      "54   Female   50             43              45        1\n",
      "55     Male   47             43              41        1\n",
      "56   Female   51             44              50        1\n",
      "57     Male   69             44              46        1\n",
      "59     Male   53             46              46        1\n",
      "60     Male   70             46              56        1\n",
      "62   Female   67             47              52        1\n",
      "63   Female   54             47              59        1\n",
      "64     Male   63             48              51        1\n",
      "66   Female   43             48              50        1\n",
      "67   Female   68             48              48        1\n",
      "70     Male   70             49              55        1\n",
      "71   Female   47             49              42        1\n",
      "72   Female   60             50              49        1\n",
      "73   Female   60             50              56        1\n",
      "74     Male   59             54              47        1\n",
      "76   Female   45             54              53        1\n",
      "79   Female   49             54              42        1\n",
      "80     Male   57             54              51        1\n",
      "82     Male   67             54              41        1\n",
      "83   Female   46             54              44        1\n",
      "85     Male   48             54              46        1\n",
      "86   Female   55             57              58        1\n",
      "89   Female   50             58              46        1\n",
      "90   Female   68             59              55        1\n",
      "92     Male   48             60              49        1\n",
      "96   Female   47             60              47        1\n",
      "98     Male   48             61              42        1\n",
      "101  Female   49             62              48        1\n",
      "102    Male   67             62              59        1\n",
      "104    Male   49             62              56        1\n",
      "106  Female   66             63              50        1\n",
      "107    Male   54             63              46        1\n",
      "108    Male   68             63              43        1\n",
      "109    Male   66             63              48        1\n",
      "110    Male   65             63              52        1\n",
      "116  Female   63             65              43        1\n",
      "117  Female   49             65              59        1\n",
      "118  Female   51             67              43        1\n",
      "119  Female   50             67              57        1\n",
      "\n",
      "Customer cluster: 2\n",
      "\n",
      "    Gender  Age  Annual_Income  Spending_Score  cluster\n",
      "1     Male   21             15              81        2\n",
      "3   Female   23             16              77        2\n",
      "5   Female   22             17              76        2\n",
      "7   Female   23             18              94        2\n",
      "9   Female   30             19              72        2\n",
      "11  Female   35             19              99        2\n",
      "13  Female   24             20              77        2\n",
      "15    Male   22             20              79        2\n",
      "17    Male   20             21              66        2\n",
      "19  Female   35             23              98        2\n",
      "21    Male   25             24              73        2\n",
      "23    Male   31             25              73        2\n",
      "25    Male   29             28              82        2\n",
      "27    Male   35             28              61        2\n",
      "29  Female   23             29              87        2\n",
      "31  Female   21             30              73        2\n",
      "33    Male   18             33              92        2\n",
      "35  Female   21             33              81        2\n",
      "37  Female   30             34              73        2\n",
      "39  Female   20             37              75        2\n",
      "41    Male   24             38              92        2\n",
      "45  Female   24             39              65        2\n",
      "\n",
      "Customer cluster: 3\n",
      "\n",
      "     Gender  Age  Annual_Income  Spending_Score  cluster\n",
      "126    Male   43             71              35        3\n",
      "128    Male   59             71              11        3\n",
      "130    Male   47             71               9        3\n",
      "134    Male   20             73               5        3\n",
      "136  Female   44             73               7        3\n",
      "138    Male   19             74              10        3\n",
      "140  Female   57             75               5        3\n",
      "144    Male   25             77              12        3\n",
      "146    Male   48             77              36        3\n",
      "148  Female   34             78              22        3\n",
      "150    Male   43             78              17        3\n",
      "152  Female   44             78              20        3\n",
      "154  Female   47             78              16        3\n",
      "156    Male   37             78               1        3\n",
      "158    Male   34             78               1        3\n",
      "160  Female   56             79              35        3\n",
      "162    Male   19             81               5        3\n",
      "164    Male   50             85              26        3\n",
      "166    Male   42             86              20        3\n",
      "168  Female   36             87              27        3\n",
      "170    Male   40             87              13        3\n",
      "172    Male   36             87              10        3\n",
      "174  Female   52             88              13        3\n",
      "176    Male   58             88              15        3\n",
      "178    Male   59             93              14        3\n",
      "180  Female   37             97              32        3\n",
      "182    Male   46             98              15        3\n",
      "184  Female   41             99              39        3\n",
      "186  Female   54            101              24        3\n",
      "188  Female   41            103              17        3\n",
      "190  Female   34            103              23        3\n",
      "192    Male   33            113               8        3\n",
      "194  Female   47            120              16        3\n",
      "196  Female   45            126              28        3\n",
      "\n",
      "Customer cluster: 4\n",
      "\n",
      "     Gender  Age  Annual_Income  Spending_Score  cluster\n",
      "43   Female   31             39              61        4\n",
      "47   Female   27             40              47        4\n",
      "48   Female   29             40              42        4\n",
      "49   Female   31             40              42        4\n",
      "51     Male   33             42              60        4\n",
      "52   Female   31             43              54        4\n",
      "58   Female   27             46              51        4\n",
      "61     Male   19             46              55        4\n",
      "65     Male   18             48              59        4\n",
      "68     Male   19             48              59        4\n",
      "69   Female   32             48              47        4\n",
      "75     Male   26             54              54        4\n",
      "77     Male   40             54              48        4\n",
      "78   Female   23             54              52        4\n",
      "81     Male   38             54              55        4\n",
      "84   Female   21             54              57        4\n",
      "87   Female   22             57              55        4\n",
      "88   Female   34             58              60        4\n",
      "91     Male   18             59              41        4\n",
      "93   Female   40             60              40        4\n",
      "94   Female   32             60              42        4\n",
      "95     Male   24             60              52        4\n",
      "97   Female   27             60              50        4\n",
      "99     Male   20             61              49        4\n",
      "100  Female   23             62              41        4\n",
      "103    Male   26             62              55        4\n",
      "105  Female   21             62              42        4\n",
      "111  Female   19             63              54        4\n",
      "112  Female   38             64              42        4\n",
      "113    Male   19             64              46        4\n",
      "114  Female   18             65              48        4\n",
      "115  Female   19             65              50        4\n",
      "120    Male   27             67              56        4\n",
      "121  Female   38             67              40        4\n",
      "122  Female   40             69              58        4\n",
      "124  Female   23             70              29        4\n",
      "132  Female   25             72              34        4\n",
      "142  Female   28             76              40        4\n",
      "\n",
      "Customer cluster: 5\n",
      "\n",
      "     Gender  Age  Annual_Income  Spending_Score  cluster\n",
      "123    Male   39             69              91        5\n",
      "125  Female   31             70              77        5\n",
      "127    Male   40             71              95        5\n",
      "129    Male   38             71              75        5\n",
      "131    Male   39             71              75        5\n",
      "133  Female   31             72              71        5\n",
      "135  Female   29             73              88        5\n",
      "137    Male   32             73              73        5\n",
      "139  Female   35             74              72        5\n",
      "141    Male   32             75              93        5\n",
      "143  Female   32             76              87        5\n",
      "145    Male   28             77              97        5\n",
      "147  Female   32             77              74        5\n",
      "149    Male   34             78              90        5\n",
      "151    Male   39             78              88        5\n",
      "153  Female   38             78              76        5\n",
      "155  Female   27             78              89        5\n",
      "157  Female   30             78              78        5\n",
      "159  Female   30             78              73        5\n",
      "161  Female   29             79              83        5\n",
      "163  Female   31             81              93        5\n",
      "165  Female   36             85              75        5\n",
      "167  Female   33             86              95        5\n",
      "169    Male   32             87              63        5\n",
      "171    Male   28             87              75        5\n",
      "173    Male   36             87              92        5\n",
      "175  Female   30             88              86        5\n",
      "177    Male   27             88              69        5\n",
      "179    Male   35             93              90        5\n",
      "181  Female   32             97              86        5\n",
      "183  Female   29             98              88        5\n",
      "185    Male   30             99              97        5\n",
      "187    Male   28            101              68        5\n",
      "189  Female   36            103              85        5\n",
      "191  Female   32            103              69        5\n",
      "193  Female   38            113              91        5\n",
      "195  Female   35            120              79        5\n",
      "197    Male   32            126              74        5\n"
     ]
    }
   ],
   "source": [
    "# Display customer data based on its cluster\n",
    "for i in range (0,6):\n",
    "    print('\\nCustomer cluster: {}\\n'.format(i))\n",
    "    print(df_final[df_final['cluster']== i])\n"
   ]
  },
  {
   "cell_type": "code",
   "execution_count": 32,
   "metadata": {},
   "outputs": [
    {
     "data": {
      "image/png": "[encoded data removed]",
      "text/plain": [
       "<Figure size 432x288 with 1 Axes>"
      ]
     },
     "metadata": {},
     "output_type": "display_data"
    },
    {
     "data": {
      "image/png": "[encoded data removed]",
      "text/plain": [
       "<Figure size 432x288 with 1 Axes>"
      ]
     },
     "metadata": {},
     "output_type": "display_data"
    },
    {
     "data": {
      "image/png": "[encoded data removed]",
      "text/plain": [
       "<Figure size 432x288 with 1 Axes>"
      ]
     },
     "metadata": {},
     "output_type": "display_data"
    }
   ],
   "source": [
    "# Numerical Data Cluster Visualization\n",
    "columns_numeric = ['Age','Annual_Income','Spending_Score']\n",
    "\n",
    "for i in columns_numeric:\n",
    "    plt.figure(figsize=(6,4))\n",
    "    ax = sns.boxplot(x = 'cluster',y = i, data = df_final)\n",
    "    plt.title('\\nBox Plot {}\\n'.format(i), fontsize=15)\n",
    "    plt.show()"
   ]
  },
  {
   "cell_type": "code",
   "execution_count": 33,
   "metadata": {},
   "outputs": [
    {
     "data": {
      "image/png": "[encoded data removed]",
      "text/plain": [
       "<Figure size 648x504 with 1 Axes>"
      ]
     },
     "metadata": {},
     "output_type": "display_data"
    }
   ],
   "source": [
    "import matplotlib.pyplot as plt\n",
    "import seaborn as sns\n",
    "sns.set(style='white')\n",
    "\n",
    "# Categorical Data Cluster Visualization\n",
    "columns_categorical = ['Gender']\n",
    "\n",
    "for i in columns_categorical:\n",
    "    plt.figure(figsize=(9,7))\n",
    "    ax = sns.countplot(data = df_final, x = 'cluster', hue = i )\n",
    "    plt.title('\\nCount Plot {}\\n'.format(i), fontsize=15)\n",
    "    ax.legend(loc=\"upper center\")\n",
    "    for p in ax.patches:\n",
    "        ax.annotate(format(p.get_height(), '.0f'),\n",
    "                    (p.get_x() + p.get_width() / 2., p.get_height()),\n",
    "                    ha = 'center',\n",
    "                    va = 'center',\n",
    "                    xytext = (0, 10),\n",
    "                    textcoords = 'offset points')\n",
    "\n",
    "    sns.despine(right=True,top = True, left = True)\n",
    "    ax.axes.yaxis.set_visible(False)\n",
    "    plt.show()"
   ]
  },
  {
   "cell_type": "markdown",
   "metadata": {},
   "source": [
    "From the results of observations on the boxplot and countplot of each cluster above, the clustering can be made as follows:\n",
    "\n",
    "* Cluster 0: Silver Society Members. The content of this cluster is the general public with an average annual income of 25 k (dollars). This cluster has an age range of about 20 - 68 years with an average of 45 years where women dominate. In addition, this cluster has a low spending_score (5-40).\n",
    "* Cluster 1: Gold Society Member, the content of this cluster is the elderly general public with an average annual income of 55 k (dollars). This cluster has an age range of about 45 - 70 years with an average of 55 years where women dominate. In addition, this cluster has a moderate spending_score (30-60).\n",
    "* Cluster 2: Diamond Student Member, the contents of this cluster are students and students with an average annual income of 25 k (dollars). This cluster has an age range of about 20 - 35 years with an average of 22 years where women dominate. In addition, this cluster has a high spending_score (60-98).\n",
    "* Cluster 3: Silver Entrepreneur Member, the contents of this cluster are entrepreneurs with an average annual income of 80 k (dollars). This cluster has an age range of about 20 - 55 years with an average of 43 years where males predominate. In addition, this cluster has a low spending_score (5-40).\n",
    "* Cluster 4: Gold Young Entrepreneur Member, the contents of this cluster are young entrepreneurs with an average annual income of 60 k (dollars). This cluster has an age range of about 20 - 55 years with an average of 43 years where women dominate. In addition, this cluster has a moderate spending_score (30-60).\n",
    "* Cluster 5: Diamond Young Entrepreneur Member, the contents of this cluster are young entrepreneurs with an average annual income of 75 k (dollars). This cluster has an age range of about 25 - 37 years with an average of 31 years where women dominate. In addition, this cluster has a high spending_score (65-90).\n",
    "\n",
    "Note: To simplify naming, the cluster level is based more on the spending_score value (silver = low, gold = medium, diamond = high)"
   ]
  },
  {
   "cell_type": "code",
   "execution_count": 34,
   "metadata": {},
   "outputs": [
    {
     "name": "stdout",
     "output_type": "stream",
     "text": [
      "   Gender  Age  Annual_Income  Spending_Score  cluster            Segmentation\n",
      "0    Male   19             15              39        0   Silver Society Member\n",
      "1    Male   21             15              81        2  Diamond Student Member\n",
      "2  Female   20             16               6        0   Silver Society Member\n",
      "3  Female   23             16              77        2  Diamond Student Member\n",
      "4  Female   31             17              40        0   Silver Society Member\n"
     ]
    }
   ],
   "source": [
    "# Mapping column names\n",
    "df_final['Segmentation'] = df_final['cluster'].map({\n",
    "    0: 'Silver Society Member',\n",
    "    1: 'Gold Society Member',\n",
    "    2: 'Diamond Student Member',\n",
    "    3: 'Silver Enterpreneur Member',\n",
    "    4: 'Gold Young Enterpreneur Member',\n",
    "    5: 'Diamond Young Enterpreneur Member'\n",
    "    }) \n",
    "\n",
    "print(df_final.head())  "
   ]
  },
  {
   "cell_type": "markdown",
   "metadata": {},
   "source": [
    "# END\n",
    "# Thank You. May be Useful"
   ]
  }
 ],
 "metadata": {
  "kernelspec": {
   "display_name": "Python 3",
   "language": "python",
   "name": "python3"
  },
  "language_info": {
   "codemirror_mode": {
    "name": "ipython",
    "version": 3
   },
   "file_extension": ".py",
   "mimetype": "text/x-python",
   "name": "python",
   "nbconvert_exporter": "python",
   "pygments_lexer": "ipython3",
   "version": "3.8.5"
  }
 },
 "nbformat": 4,
 "nbformat_minor": 4
}
